{
 "cells": [
  {
   "cell_type": "markdown",
   "id": "3e649f35",
   "metadata": {},
   "source": [
    "# Supervised machine learning and regression analysis\n",
    "1. Import libraries\n",
    "2. Wrangle & clean data\n",
    "3. Prepare data for regression analysis\n",
    "4. Regression analysis"
   ]
  },
  {
   "cell_type": "markdown",
   "id": "657315b8",
   "metadata": {},
   "source": [
    "# 1. Import libraries "
   ]
  },
  {
   "cell_type": "code",
   "execution_count": 1,
   "id": "61059dc5",
   "metadata": {},
   "outputs": [],
   "source": [
    "import pandas as pd\n",
    "import numpy as np\n",
    "import seaborn as sns\n",
    "import matplotlib\n",
    "import matplotlib.pyplot as plt\n",
    "import os\n",
    "import sklearn\n",
    "from sklearn.model_selection import train_test_split \n",
    "from sklearn.linear_model import LinearRegression\n",
    "from sklearn.metrics import mean_squared_error, r2_score"
   ]
  },
  {
   "cell_type": "code",
   "execution_count": 2,
   "id": "0884e75a",
   "metadata": {},
   "outputs": [],
   "source": [
    "# Display graphs without need to call\n",
    "%matplotlib inline"
   ]
  },
  {
   "cell_type": "code",
   "execution_count": 3,
   "id": "0917da06",
   "metadata": {},
   "outputs": [],
   "source": [
    "# Import data\n",
    "df = pd.read_csv(r'/Users/OldBobJulia/Desktop/CF/Course/6. Advanced Analytics and Dashboard Design/Berlin Airbnb Analysis/02 Data/Prepared data/listing_derivedcolumns.csv')"
   ]
  },
  {
   "cell_type": "code",
   "execution_count": 4,
   "id": "60041156",
   "metadata": {},
   "outputs": [
    {
     "data": {
      "text/html": [
       "<div>\n",
       "<style scoped>\n",
       "    .dataframe tbody tr th:only-of-type {\n",
       "        vertical-align: middle;\n",
       "    }\n",
       "\n",
       "    .dataframe tbody tr th {\n",
       "        vertical-align: top;\n",
       "    }\n",
       "\n",
       "    .dataframe thead th {\n",
       "        text-align: right;\n",
       "    }\n",
       "</style>\n",
       "<table border=\"1\" class=\"dataframe\">\n",
       "  <thead>\n",
       "    <tr style=\"text-align: right;\">\n",
       "      <th></th>\n",
       "      <th>Unnamed: 0</th>\n",
       "      <th>neighbourhood_group</th>\n",
       "      <th>latitude</th>\n",
       "      <th>longitude</th>\n",
       "      <th>room_type</th>\n",
       "      <th>price</th>\n",
       "      <th>minimum_nights</th>\n",
       "      <th>number_of_reviews</th>\n",
       "      <th>reviews_per_month</th>\n",
       "      <th>calculated_host_listings_count</th>\n",
       "      <th>availability_365</th>\n",
       "      <th>Price category</th>\n",
       "      <th>Rental availability</th>\n",
       "      <th>Host type</th>\n",
       "    </tr>\n",
       "  </thead>\n",
       "  <tbody>\n",
       "    <tr>\n",
       "      <th>0</th>\n",
       "      <td>0</td>\n",
       "      <td>Mitte</td>\n",
       "      <td>52.54433</td>\n",
       "      <td>13.39761</td>\n",
       "      <td>Private room</td>\n",
       "      <td>28.0</td>\n",
       "      <td>60</td>\n",
       "      <td>18</td>\n",
       "      <td>0.21</td>\n",
       "      <td>3</td>\n",
       "      <td>101</td>\n",
       "      <td>Low price</td>\n",
       "      <td>Middle term</td>\n",
       "      <td>Commercial host</td>\n",
       "    </tr>\n",
       "    <tr>\n",
       "      <th>1</th>\n",
       "      <td>1</td>\n",
       "      <td>Mitte</td>\n",
       "      <td>52.53305</td>\n",
       "      <td>13.40394</td>\n",
       "      <td>Entire home/apt</td>\n",
       "      <td>74.0</td>\n",
       "      <td>90</td>\n",
       "      <td>141</td>\n",
       "      <td>2.20</td>\n",
       "      <td>6</td>\n",
       "      <td>357</td>\n",
       "      <td>Low price</td>\n",
       "      <td>Long term</td>\n",
       "      <td>Commercial host</td>\n",
       "    </tr>\n",
       "    <tr>\n",
       "      <th>2</th>\n",
       "      <td>2</td>\n",
       "      <td>Pankow</td>\n",
       "      <td>52.53471</td>\n",
       "      <td>13.41810</td>\n",
       "      <td>Entire home/apt</td>\n",
       "      <td>90.0</td>\n",
       "      <td>62</td>\n",
       "      <td>147</td>\n",
       "      <td>1.14</td>\n",
       "      <td>1</td>\n",
       "      <td>254</td>\n",
       "      <td>Middle price</td>\n",
       "      <td>Long term</td>\n",
       "      <td>Private host</td>\n",
       "    </tr>\n",
       "    <tr>\n",
       "      <th>3</th>\n",
       "      <td>3</td>\n",
       "      <td>Tempelhof - Schöneberg</td>\n",
       "      <td>52.49884</td>\n",
       "      <td>13.34940</td>\n",
       "      <td>Private room</td>\n",
       "      <td>29.0</td>\n",
       "      <td>7</td>\n",
       "      <td>27</td>\n",
       "      <td>0.28</td>\n",
       "      <td>1</td>\n",
       "      <td>285</td>\n",
       "      <td>Low price</td>\n",
       "      <td>Long term</td>\n",
       "      <td>Private host</td>\n",
       "    </tr>\n",
       "    <tr>\n",
       "      <th>4</th>\n",
       "      <td>4</td>\n",
       "      <td>Friedrichshain-Kreuzberg</td>\n",
       "      <td>52.51163</td>\n",
       "      <td>13.45289</td>\n",
       "      <td>Entire home/apt</td>\n",
       "      <td>79.0</td>\n",
       "      <td>7</td>\n",
       "      <td>135</td>\n",
       "      <td>1.02</td>\n",
       "      <td>1</td>\n",
       "      <td>0</td>\n",
       "      <td>Low price</td>\n",
       "      <td>Short term</td>\n",
       "      <td>Private host</td>\n",
       "    </tr>\n",
       "  </tbody>\n",
       "</table>\n",
       "</div>"
      ],
      "text/plain": [
       "   Unnamed: 0       neighbourhood_group  latitude  longitude        room_type  \\\n",
       "0           0                     Mitte  52.54433   13.39761     Private room   \n",
       "1           1                     Mitte  52.53305   13.40394  Entire home/apt   \n",
       "2           2                    Pankow  52.53471   13.41810  Entire home/apt   \n",
       "3           3    Tempelhof - Schöneberg  52.49884   13.34940     Private room   \n",
       "4           4  Friedrichshain-Kreuzberg  52.51163   13.45289  Entire home/apt   \n",
       "\n",
       "   price  minimum_nights  number_of_reviews  reviews_per_month  \\\n",
       "0   28.0              60                 18               0.21   \n",
       "1   74.0              90                141               2.20   \n",
       "2   90.0              62                147               1.14   \n",
       "3   29.0               7                 27               0.28   \n",
       "4   79.0               7                135               1.02   \n",
       "\n",
       "   calculated_host_listings_count  availability_365 Price category  \\\n",
       "0                               3               101      Low price   \n",
       "1                               6               357      Low price   \n",
       "2                               1               254   Middle price   \n",
       "3                               1               285      Low price   \n",
       "4                               1                 0      Low price   \n",
       "\n",
       "  Rental availability        Host type  \n",
       "0         Middle term  Commercial host  \n",
       "1           Long term  Commercial host  \n",
       "2           Long term     Private host  \n",
       "3           Long term     Private host  \n",
       "4          Short term     Private host  "
      ]
     },
     "execution_count": 4,
     "metadata": {},
     "output_type": "execute_result"
    }
   ],
   "source": [
    "df.head()"
   ]
  },
  {
   "cell_type": "code",
   "execution_count": 5,
   "id": "622568ad",
   "metadata": {},
   "outputs": [],
   "source": [
    "# Drop Unnamed\n",
    "df = df.drop(columns = ['Unnamed: 0'])"
   ]
  },
  {
   "cell_type": "code",
   "execution_count": 6,
   "id": "5ace4fae",
   "metadata": {},
   "outputs": [
    {
     "data": {
      "text/html": [
       "<div>\n",
       "<style scoped>\n",
       "    .dataframe tbody tr th:only-of-type {\n",
       "        vertical-align: middle;\n",
       "    }\n",
       "\n",
       "    .dataframe tbody tr th {\n",
       "        vertical-align: top;\n",
       "    }\n",
       "\n",
       "    .dataframe thead th {\n",
       "        text-align: right;\n",
       "    }\n",
       "</style>\n",
       "<table border=\"1\" class=\"dataframe\">\n",
       "  <thead>\n",
       "    <tr style=\"text-align: right;\">\n",
       "      <th></th>\n",
       "      <th>neighbourhood_group</th>\n",
       "      <th>latitude</th>\n",
       "      <th>longitude</th>\n",
       "      <th>room_type</th>\n",
       "      <th>price</th>\n",
       "      <th>minimum_nights</th>\n",
       "      <th>number_of_reviews</th>\n",
       "      <th>reviews_per_month</th>\n",
       "      <th>calculated_host_listings_count</th>\n",
       "      <th>availability_365</th>\n",
       "      <th>Price category</th>\n",
       "      <th>Rental availability</th>\n",
       "      <th>Host type</th>\n",
       "    </tr>\n",
       "  </thead>\n",
       "  <tbody>\n",
       "    <tr>\n",
       "      <th>0</th>\n",
       "      <td>Mitte</td>\n",
       "      <td>52.54433</td>\n",
       "      <td>13.39761</td>\n",
       "      <td>Private room</td>\n",
       "      <td>28.0</td>\n",
       "      <td>60</td>\n",
       "      <td>18</td>\n",
       "      <td>0.21</td>\n",
       "      <td>3</td>\n",
       "      <td>101</td>\n",
       "      <td>Low price</td>\n",
       "      <td>Middle term</td>\n",
       "      <td>Commercial host</td>\n",
       "    </tr>\n",
       "    <tr>\n",
       "      <th>1</th>\n",
       "      <td>Mitte</td>\n",
       "      <td>52.53305</td>\n",
       "      <td>13.40394</td>\n",
       "      <td>Entire home/apt</td>\n",
       "      <td>74.0</td>\n",
       "      <td>90</td>\n",
       "      <td>141</td>\n",
       "      <td>2.20</td>\n",
       "      <td>6</td>\n",
       "      <td>357</td>\n",
       "      <td>Low price</td>\n",
       "      <td>Long term</td>\n",
       "      <td>Commercial host</td>\n",
       "    </tr>\n",
       "    <tr>\n",
       "      <th>2</th>\n",
       "      <td>Pankow</td>\n",
       "      <td>52.53471</td>\n",
       "      <td>13.41810</td>\n",
       "      <td>Entire home/apt</td>\n",
       "      <td>90.0</td>\n",
       "      <td>62</td>\n",
       "      <td>147</td>\n",
       "      <td>1.14</td>\n",
       "      <td>1</td>\n",
       "      <td>254</td>\n",
       "      <td>Middle price</td>\n",
       "      <td>Long term</td>\n",
       "      <td>Private host</td>\n",
       "    </tr>\n",
       "    <tr>\n",
       "      <th>3</th>\n",
       "      <td>Tempelhof - Schöneberg</td>\n",
       "      <td>52.49884</td>\n",
       "      <td>13.34940</td>\n",
       "      <td>Private room</td>\n",
       "      <td>29.0</td>\n",
       "      <td>7</td>\n",
       "      <td>27</td>\n",
       "      <td>0.28</td>\n",
       "      <td>1</td>\n",
       "      <td>285</td>\n",
       "      <td>Low price</td>\n",
       "      <td>Long term</td>\n",
       "      <td>Private host</td>\n",
       "    </tr>\n",
       "    <tr>\n",
       "      <th>4</th>\n",
       "      <td>Friedrichshain-Kreuzberg</td>\n",
       "      <td>52.51163</td>\n",
       "      <td>13.45289</td>\n",
       "      <td>Entire home/apt</td>\n",
       "      <td>79.0</td>\n",
       "      <td>7</td>\n",
       "      <td>135</td>\n",
       "      <td>1.02</td>\n",
       "      <td>1</td>\n",
       "      <td>0</td>\n",
       "      <td>Low price</td>\n",
       "      <td>Short term</td>\n",
       "      <td>Private host</td>\n",
       "    </tr>\n",
       "  </tbody>\n",
       "</table>\n",
       "</div>"
      ],
      "text/plain": [
       "        neighbourhood_group  latitude  longitude        room_type  price  \\\n",
       "0                     Mitte  52.54433   13.39761     Private room   28.0   \n",
       "1                     Mitte  52.53305   13.40394  Entire home/apt   74.0   \n",
       "2                    Pankow  52.53471   13.41810  Entire home/apt   90.0   \n",
       "3    Tempelhof - Schöneberg  52.49884   13.34940     Private room   29.0   \n",
       "4  Friedrichshain-Kreuzberg  52.51163   13.45289  Entire home/apt   79.0   \n",
       "\n",
       "   minimum_nights  number_of_reviews  reviews_per_month  \\\n",
       "0              60                 18               0.21   \n",
       "1              90                141               2.20   \n",
       "2              62                147               1.14   \n",
       "3               7                 27               0.28   \n",
       "4               7                135               1.02   \n",
       "\n",
       "   calculated_host_listings_count  availability_365 Price category  \\\n",
       "0                               3               101      Low price   \n",
       "1                               6               357      Low price   \n",
       "2                               1               254   Middle price   \n",
       "3                               1               285      Low price   \n",
       "4                               1                 0      Low price   \n",
       "\n",
       "  Rental availability        Host type  \n",
       "0         Middle term  Commercial host  \n",
       "1           Long term  Commercial host  \n",
       "2           Long term     Private host  \n",
       "3           Long term     Private host  \n",
       "4          Short term     Private host  "
      ]
     },
     "execution_count": 6,
     "metadata": {},
     "output_type": "execute_result"
    }
   ],
   "source": [
    "df.head()"
   ]
  },
  {
   "cell_type": "code",
   "execution_count": 7,
   "id": "f7ba7910",
   "metadata": {},
   "outputs": [
    {
     "data": {
      "text/plain": [
       "(19095, 13)"
      ]
     },
     "execution_count": 7,
     "metadata": {},
     "output_type": "execute_result"
    }
   ],
   "source": [
    "df.shape"
   ]
  },
  {
   "cell_type": "markdown",
   "id": "bdc17dd0",
   "metadata": {},
   "source": [
    "# 2. Wrangle & clean data "
   ]
  },
  {
   "cell_type": "code",
   "execution_count": 8,
   "id": "3424bdbe",
   "metadata": {},
   "outputs": [
    {
     "data": {
      "text/plain": [
       "Index(['neighbourhood_group', 'latitude', 'longitude', 'room_type', 'price',\n",
       "       'minimum_nights', 'number_of_reviews', 'reviews_per_month',\n",
       "       'calculated_host_listings_count', 'availability_365', 'Price category',\n",
       "       'Rental availability', 'Host type'],\n",
       "      dtype='object')"
      ]
     },
     "execution_count": 8,
     "metadata": {},
     "output_type": "execute_result"
    }
   ],
   "source": [
    "# Check columns\n",
    "df.columns"
   ]
  },
  {
   "cell_type": "code",
   "execution_count": 9,
   "id": "8797f77b",
   "metadata": {},
   "outputs": [
    {
     "data": {
      "text/plain": [
       "neighbourhood_group                  0\n",
       "latitude                             0\n",
       "longitude                            0\n",
       "room_type                            0\n",
       "price                                0\n",
       "minimum_nights                       0\n",
       "number_of_reviews                    0\n",
       "reviews_per_month                 4155\n",
       "calculated_host_listings_count       0\n",
       "availability_365                     0\n",
       "Price category                       0\n",
       "Rental availability                  0\n",
       "Host type                            0\n",
       "dtype: int64"
      ]
     },
     "execution_count": 9,
     "metadata": {},
     "output_type": "execute_result"
    }
   ],
   "source": [
    "# Check for missings\n",
    "df.isnull().sum()"
   ]
  },
  {
   "cell_type": "markdown",
   "id": "b3e1b067",
   "metadata": {},
   "source": [
    "Reviews_per_month has 4155 missing values which I decide to leave bc them being missing might be valuable information. "
   ]
  },
  {
   "cell_type": "code",
   "execution_count": 10,
   "id": "f6311044",
   "metadata": {},
   "outputs": [],
   "source": [
    "# Check dups\n",
    "dups = df.duplicated()"
   ]
  },
  {
   "cell_type": "code",
   "execution_count": 11,
   "id": "9778b5df",
   "metadata": {},
   "outputs": [
    {
     "data": {
      "text/plain": [
       "(19095,)"
      ]
     },
     "execution_count": 11,
     "metadata": {},
     "output_type": "execute_result"
    }
   ],
   "source": [
    "dups.shape"
   ]
  },
  {
   "cell_type": "code",
   "execution_count": 16,
   "id": "a0b6a268",
   "metadata": {},
   "outputs": [
    {
     "name": "stderr",
     "output_type": "stream",
     "text": [
      "/opt/anaconda3/lib/python3.8/site-packages/seaborn/distributions.py:2557: FutureWarning: `distplot` is a deprecated function and will be removed in a future version. Please adapt your code to use either `displot` (a figure-level function with similar flexibility) or `histplot` (an axes-level function for histograms).\n",
      "  warnings.warn(msg, FutureWarning)\n"
     ]
    },
    {
     "data": {
      "text/plain": [
       "<AxesSubplot:xlabel='price', ylabel='Density'>"
      ]
     },
     "execution_count": 16,
     "metadata": {},
     "output_type": "execute_result"
    },
    {
     "data": {
      "image/png": "[encoded data removed]",
      "text/plain": [
       "<Figure size 432x288 with 1 Axes>"
      ]
     },
     "metadata": {
      "needs_background": "light"
     },
     "output_type": "display_data"
    }
   ],
   "source": [
    "# Check for outliers\n",
    "sns.distplot(df['price'], bins=5) "
   ]
  },
  {
   "cell_type": "code",
   "execution_count": 17,
   "id": "90f302c7",
   "metadata": {},
   "outputs": [
    {
     "data": {
      "text/html": [
       "<div>\n",
       "<style scoped>\n",
       "    .dataframe tbody tr th:only-of-type {\n",
       "        vertical-align: middle;\n",
       "    }\n",
       "\n",
       "    .dataframe tbody tr th {\n",
       "        vertical-align: top;\n",
       "    }\n",
       "\n",
       "    .dataframe thead th {\n",
       "        text-align: right;\n",
       "    }\n",
       "</style>\n",
       "<table border=\"1\" class=\"dataframe\">\n",
       "  <thead>\n",
       "    <tr style=\"text-align: right;\">\n",
       "      <th></th>\n",
       "      <th>latitude</th>\n",
       "      <th>longitude</th>\n",
       "      <th>price</th>\n",
       "      <th>minimum_nights</th>\n",
       "      <th>number_of_reviews</th>\n",
       "      <th>reviews_per_month</th>\n",
       "      <th>calculated_host_listings_count</th>\n",
       "      <th>availability_365</th>\n",
       "    </tr>\n",
       "  </thead>\n",
       "  <tbody>\n",
       "    <tr>\n",
       "      <th>count</th>\n",
       "      <td>19095.000000</td>\n",
       "      <td>19095.000000</td>\n",
       "      <td>19095.00000</td>\n",
       "      <td>19095.000000</td>\n",
       "      <td>19095.000000</td>\n",
       "      <td>14940.000000</td>\n",
       "      <td>19095.000000</td>\n",
       "      <td>19095.000000</td>\n",
       "    </tr>\n",
       "    <tr>\n",
       "      <th>mean</th>\n",
       "      <td>52.510215</td>\n",
       "      <td>13.404654</td>\n",
       "      <td>72.08474</td>\n",
       "      <td>9.105944</td>\n",
       "      <td>21.637078</td>\n",
       "      <td>0.718274</td>\n",
       "      <td>3.135847</td>\n",
       "      <td>91.271694</td>\n",
       "    </tr>\n",
       "    <tr>\n",
       "      <th>std</th>\n",
       "      <td>0.032391</td>\n",
       "      <td>0.062953</td>\n",
       "      <td>93.21170</td>\n",
       "      <td>33.635956</td>\n",
       "      <td>48.670427</td>\n",
       "      <td>1.445272</td>\n",
       "      <td>7.773246</td>\n",
       "      <td>127.645330</td>\n",
       "    </tr>\n",
       "    <tr>\n",
       "      <th>min</th>\n",
       "      <td>52.340070</td>\n",
       "      <td>13.097150</td>\n",
       "      <td>8.00000</td>\n",
       "      <td>1.000000</td>\n",
       "      <td>0.000000</td>\n",
       "      <td>0.010000</td>\n",
       "      <td>1.000000</td>\n",
       "      <td>0.000000</td>\n",
       "    </tr>\n",
       "    <tr>\n",
       "      <th>25%</th>\n",
       "      <td>52.489710</td>\n",
       "      <td>13.367160</td>\n",
       "      <td>35.00000</td>\n",
       "      <td>2.000000</td>\n",
       "      <td>1.000000</td>\n",
       "      <td>0.090000</td>\n",
       "      <td>1.000000</td>\n",
       "      <td>0.000000</td>\n",
       "    </tr>\n",
       "    <tr>\n",
       "      <th>50%</th>\n",
       "      <td>52.509950</td>\n",
       "      <td>13.414090</td>\n",
       "      <td>52.00000</td>\n",
       "      <td>3.000000</td>\n",
       "      <td>4.000000</td>\n",
       "      <td>0.270000</td>\n",
       "      <td>1.000000</td>\n",
       "      <td>0.000000</td>\n",
       "    </tr>\n",
       "    <tr>\n",
       "      <th>75%</th>\n",
       "      <td>52.533320</td>\n",
       "      <td>13.438900</td>\n",
       "      <td>81.00000</td>\n",
       "      <td>5.000000</td>\n",
       "      <td>17.000000</td>\n",
       "      <td>0.830000</td>\n",
       "      <td>2.000000</td>\n",
       "      <td>175.000000</td>\n",
       "    </tr>\n",
       "    <tr>\n",
       "      <th>max</th>\n",
       "      <td>52.656110</td>\n",
       "      <td>13.757370</td>\n",
       "      <td>4000.00000</td>\n",
       "      <td>1124.000000</td>\n",
       "      <td>620.000000</td>\n",
       "      <td>94.350000</td>\n",
       "      <td>76.000000</td>\n",
       "      <td>365.000000</td>\n",
       "    </tr>\n",
       "  </tbody>\n",
       "</table>\n",
       "</div>"
      ],
      "text/plain": [
       "           latitude     longitude        price  minimum_nights  \\\n",
       "count  19095.000000  19095.000000  19095.00000    19095.000000   \n",
       "mean      52.510215     13.404654     72.08474        9.105944   \n",
       "std        0.032391      0.062953     93.21170       33.635956   \n",
       "min       52.340070     13.097150      8.00000        1.000000   \n",
       "25%       52.489710     13.367160     35.00000        2.000000   \n",
       "50%       52.509950     13.414090     52.00000        3.000000   \n",
       "75%       52.533320     13.438900     81.00000        5.000000   \n",
       "max       52.656110     13.757370   4000.00000     1124.000000   \n",
       "\n",
       "       number_of_reviews  reviews_per_month  calculated_host_listings_count  \\\n",
       "count       19095.000000       14940.000000                    19095.000000   \n",
       "mean           21.637078           0.718274                        3.135847   \n",
       "std            48.670427           1.445272                        7.773246   \n",
       "min             0.000000           0.010000                        1.000000   \n",
       "25%             1.000000           0.090000                        1.000000   \n",
       "50%             4.000000           0.270000                        1.000000   \n",
       "75%            17.000000           0.830000                        2.000000   \n",
       "max           620.000000          94.350000                       76.000000   \n",
       "\n",
       "       availability_365  \n",
       "count      19095.000000  \n",
       "mean          91.271694  \n",
       "std          127.645330  \n",
       "min            0.000000  \n",
       "25%            0.000000  \n",
       "50%            0.000000  \n",
       "75%          175.000000  \n",
       "max          365.000000  "
      ]
     },
     "execution_count": 17,
     "metadata": {},
     "output_type": "execute_result"
    }
   ],
   "source": [
    "df.describe()"
   ]
  },
  {
   "cell_type": "markdown",
   "id": "609fb538",
   "metadata": {},
   "source": [
    "# 3. Prepare data for regression analysis"
   ]
  },
  {
   "cell_type": "markdown",
   "id": "b26ff3f7",
   "metadata": {},
   "source": [
    "Check which variables have a linear relationship using scatterplots, to see which ones are suitable for regression analysis"
   ]
  },
  {
   "cell_type": "code",
   "execution_count": 19,
   "id": "dbb7c610",
   "metadata": {},
   "outputs": [
    {
     "data": {
      "image/png": "[encoded data removed]",
      "text/plain": [
       "<Figure size 432x288 with 1 Axes>"
      ]
     },
     "metadata": {
      "needs_background": "light"
     },
     "output_type": "display_data"
    }
   ],
   "source": [
    "# Create scatterplot minimum_nights vs price\n",
    "\n",
    "df.plot(x = 'minimum_nights', y='price',style='o')\n",
    "plt.title('Minimum_nights vs price per night')  \n",
    "plt.xlabel('Minimum nights')  \n",
    "plt.ylabel('Price per night')  \n",
    "plt.show()"
   ]
  },
  {
   "cell_type": "markdown",
   "id": "3cf7d8c9",
   "metadata": {},
   "source": [
    "There is a tendency but it's not linear. There's a concentration of data points at the low end of minimum nights. The price decreases as the number of minimum nights increase. "
   ]
  },
  {
   "cell_type": "code",
   "execution_count": 20,
   "id": "bd04b572",
   "metadata": {},
   "outputs": [
    {
     "data": {
      "image/png": "[encoded data removed]",
      "text/plain": [
       "<Figure size 432x288 with 1 Axes>"
      ]
     },
     "metadata": {
      "needs_background": "light"
     },
     "output_type": "display_data"
    }
   ],
   "source": [
    "# Create scatterplot number_of_reviews vs price\n",
    "df.plot(x = 'number_of_reviews', y='price',style='o')\n",
    "plt.title('Number of reviews vs price per night')  \n",
    "plt.xlabel('Number of reviews')  \n",
    "plt.ylabel('Price per night')  \n",
    "plt.show()"
   ]
  },
  {
   "cell_type": "markdown",
   "id": "bd257a2c",
   "metadata": {},
   "source": [
    "This relationship is not linear, either"
   ]
  },
  {
   "cell_type": "code",
   "execution_count": 21,
   "id": "84a4b884",
   "metadata": {},
   "outputs": [
    {
     "data": {
      "image/png": "[encoded data removed]",
      "text/plain": [
       "<Figure size 432x288 with 1 Axes>"
      ]
     },
     "metadata": {
      "needs_background": "light"
     },
     "output_type": "display_data"
    }
   ],
   "source": [
    "# Create scatter plot Number of reviews vs minimum nights. Do minimum_nights have an impact on number of reviews? \n",
    "df.plot(x = 'minimum_nights', y='number_of_reviews',style='o')\n",
    "plt.title('Number of reviews vs minimum nights')  \n",
    "plt.xlabel('Minimum nights')  \n",
    "plt.ylabel('Number of reviews')  \n",
    "plt.show()"
   ]
  },
  {
   "cell_type": "markdown",
   "id": "4288649e",
   "metadata": {},
   "source": [
    "This relationship looks somewhat linear. \n",
    "\n",
    "Hypothesis: The lower the minimum nights, the higher the number of reviews. "
   ]
  },
  {
   "cell_type": "code",
   "execution_count": 23,
   "id": "4b715775",
   "metadata": {},
   "outputs": [
    {
     "data": {
      "image/png": "[encoded data removed]",
      "text/plain": [
       "<Figure size 432x288 with 1 Axes>"
      ]
     },
     "metadata": {
      "needs_background": "light"
     },
     "output_type": "display_data"
    }
   ],
   "source": [
    "# Create scatter plot price vs calculated_host_listings_count\n",
    "df.plot(x = 'calculated_host_listings_count', y='price',style='o')\n",
    "plt.title('Price vs count of host listings')  \n",
    "plt.xlabel('Count of host listings')  \n",
    "plt.ylabel('Price')  \n",
    "plt.show()"
   ]
  },
  {
   "cell_type": "markdown",
   "id": "998abbdf",
   "metadata": {},
   "source": [
    "This relationship could be linear."
   ]
  },
  {
   "cell_type": "code",
   "execution_count": 24,
   "id": "5e3d9294",
   "metadata": {},
   "outputs": [
    {
     "data": {
      "image/png": "[encoded data removed]",
      "text/plain": [
       "<Figure size 432x288 with 1 Axes>"
      ]
     },
     "metadata": {
      "needs_background": "light"
     },
     "output_type": "display_data"
    }
   ],
   "source": [
    "# Create scatter plot availability vs calculated_host_listings_count.\n",
    "df.plot(x = 'calculated_host_listings_count', y='availability_365',style='o')\n",
    "plt.title('Availability vs Count of host listings')  \n",
    "plt.xlabel('Count of host listings')  \n",
    "plt.ylabel('Availability 365')  \n",
    "plt.show()"
   ]
  },
  {
   "cell_type": "code",
   "execution_count": 28,
   "id": "9790afbe",
   "metadata": {},
   "outputs": [
    {
     "data": {
      "image/png": "[encoded data removed]",
      "text/plain": [
       "<Figure size 432x288 with 1 Axes>"
      ]
     },
     "metadata": {
      "needs_background": "light"
     },
     "output_type": "display_data"
    }
   ],
   "source": [
    "# Create scatter plot calculated_host_listings count vs minimum nights.\n",
    "df.plot(x = 'calculated_host_listings_count', y='minimum_nights',style='o')\n",
    "plt.title('Minimum nights vs Count of host listings')  \n",
    "plt.xlabel('Count of host listings')  \n",
    "plt.ylabel('Minimum nights')  \n",
    "plt.show()"
   ]
  },
  {
   "cell_type": "markdown",
   "id": "0ad842b6",
   "metadata": {},
   "source": [
    "This relationship could be linear as well. "
   ]
  },
  {
   "cell_type": "code",
   "execution_count": 29,
   "id": "5e24be05",
   "metadata": {},
   "outputs": [
    {
     "data": {
      "image/png": "[encoded data removed]",
      "text/plain": [
       "<Figure size 432x288 with 1 Axes>"
      ]
     },
     "metadata": {
      "needs_background": "light"
     },
     "output_type": "display_data"
    }
   ],
   "source": [
    "# Create scatter plot Availability 365 vs price. \n",
    "df.plot(x = 'availability_365', y='price',style='o')\n",
    "plt.title('Availability 365 vs price')  \n",
    "plt.xlabel('Availability 365')  \n",
    "plt.ylabel('Price')  \n",
    "plt.show()"
   ]
  },
  {
   "cell_type": "code",
   "execution_count": 30,
   "id": "d1e0025c",
   "metadata": {},
   "outputs": [
    {
     "data": {
      "image/png": "[encoded data removed]",
      "text/plain": [
       "<Figure size 432x288 with 1 Axes>"
      ]
     },
     "metadata": {
      "needs_background": "light"
     },
     "output_type": "display_data"
    }
   ],
   "source": [
    "# Create scatter plot Number of reviews vs reviews per month. \n",
    "df.plot(x = 'reviews_per_month', y='number_of_reviews',style='o')\n",
    "plt.title('Number of reviews vs reviews per month')  \n",
    "plt.xlabel('Reviews per month')  \n",
    "plt.ylabel('Number of reviews')  \n",
    "plt.show()"
   ]
  },
  {
   "cell_type": "markdown",
   "id": "a8ff76aa",
   "metadata": {},
   "source": [
    "**Of all these scatterplots linear of all these scatter plots is Price vs Count of host listings. I will proceed with regression analysis with those variables**"
   ]
  },
  {
   "cell_type": "code",
   "execution_count": 31,
   "id": "2d5d697d",
   "metadata": {},
   "outputs": [],
   "source": [
    "# Reshape the variables, put them into separate objects.\n",
    "\n",
    "X = df['calculated_host_listings_count'].values.reshape(-1,1)\n",
    "y = df['price'].values.reshape(-1,1)"
   ]
  },
  {
   "cell_type": "code",
   "execution_count": 32,
   "id": "e189a688",
   "metadata": {},
   "outputs": [
    {
     "data": {
      "text/plain": [
       "array([[3],\n",
       "       [6],\n",
       "       [1],\n",
       "       ...,\n",
       "       [2],\n",
       "       [1],\n",
       "       [5]])"
      ]
     },
     "execution_count": 32,
     "metadata": {},
     "output_type": "execute_result"
    }
   ],
   "source": [
    "X"
   ]
  },
  {
   "cell_type": "code",
   "execution_count": 33,
   "id": "16464dac",
   "metadata": {},
   "outputs": [
    {
     "data": {
      "text/plain": [
       "array([[28.],\n",
       "       [74.],\n",
       "       [90.],\n",
       "       ...,\n",
       "       [35.],\n",
       "       [49.],\n",
       "       [74.]])"
      ]
     },
     "execution_count": 33,
     "metadata": {},
     "output_type": "execute_result"
    }
   ],
   "source": [
    "y"
   ]
  },
  {
   "cell_type": "code",
   "execution_count": 34,
   "id": "18aafe78",
   "metadata": {},
   "outputs": [],
   "source": [
    "# Split into training and test set\n",
    "X_train, X_test, y_train, y_test = train_test_split(X, y, test_size=0.3, random_state=0)"
   ]
  },
  {
   "cell_type": "markdown",
   "id": "9154a7f8",
   "metadata": {},
   "source": [
    "# 4. Regression analysis"
   ]
  },
  {
   "cell_type": "code",
   "execution_count": 35,
   "id": "9ddf1dec",
   "metadata": {},
   "outputs": [],
   "source": [
    "# Create regression object\n",
    "regression = LinearRegression()"
   ]
  },
  {
   "cell_type": "code",
   "execution_count": 36,
   "id": "673253b9",
   "metadata": {},
   "outputs": [
    {
     "data": {
      "text/plain": [
       "LinearRegression()"
      ]
     },
     "execution_count": 36,
     "metadata": {},
     "output_type": "execute_result"
    }
   ],
   "source": [
    "# Fit it onto training set\n",
    "regression.fit(X_train, y_train)"
   ]
  },
  {
   "cell_type": "code",
   "execution_count": 37,
   "id": "c38fa0fd",
   "metadata": {},
   "outputs": [],
   "source": [
    "# Use trained regression object to predict y using X in test set \n",
    "y_predicted = regression.predict(X_test)"
   ]
  },
  {
   "cell_type": "code",
   "execution_count": 38,
   "id": "960775ce",
   "metadata": {},
   "outputs": [
    {
     "data": {
      "image/png": "[encoded data removed]",
      "text/plain": [
       "<Figure size 432x288 with 1 Axes>"
      ]
     },
     "metadata": {
      "needs_background": "light"
     },
     "output_type": "display_data"
    }
   ],
   "source": [
    "# Create plot showing regression line (results) from the model on the test set\n",
    "\n",
    "plot_test = plt\n",
    "plot_test.scatter(X_test, y_test, color='gray', s = 15)\n",
    "plot_test.plot(X_test, y_predicted, color='red', linewidth =3)\n",
    "plot_test.title('Count of host listings vs Price (Test set)')\n",
    "plot_test.xlabel('Count of host listings')\n",
    "plot_test.ylabel('Price')\n",
    "plot_test.show()"
   ]
  },
  {
   "cell_type": "code",
   "execution_count": 39,
   "id": "4b2c18c0",
   "metadata": {},
   "outputs": [],
   "source": [
    "# Create objects that contain model summary statistics\n",
    "\n",
    "rmse = mean_squared_error(y_test, y_predicted)\n",
    "r2 = r2_score(y_test, y_predicted)"
   ]
  },
  {
   "cell_type": "code",
   "execution_count": 40,
   "id": "7bde1088",
   "metadata": {},
   "outputs": [
    {
     "name": "stdout",
     "output_type": "stream",
     "text": [
      "Slope: [[0.99955684]]\n",
      "Mean squared error:  7208.617923462368\n",
      "R2 score:  0.011163277592657117\n"
     ]
    }
   ],
   "source": [
    "# Check model summary statistics to evaluate performance of model\n",
    "\n",
    "print('Slope:' ,regression.coef_)\n",
    "print('Mean squared error: ', rmse)\n",
    "print('R2 score: ', r2)"
   ]
  },
  {
   "cell_type": "markdown",
   "id": "55ad2497",
   "metadata": {},
   "source": [
    "The slope coefficent is positive indicating that as X (Count of host listings) increases, y (Price) also increases. \n",
    "\n",
    "The MSE is quite big, pointing out that the line is not very accurate.\n",
    "\n",
    "The R2 score is also pretty low, indicating a relatively poor fit of the model to the data. The linear relationship between the variables is not strong, so a non-linear model to test this relationship would be a better fit.  "
   ]
  },
  {
   "cell_type": "code",
   "execution_count": 41,
   "id": "73260a78",
   "metadata": {
    "scrolled": true
   },
   "outputs": [
    {
     "data": {
      "text/html": [
       "<div>\n",
       "<style scoped>\n",
       "    .dataframe tbody tr th:only-of-type {\n",
       "        vertical-align: middle;\n",
       "    }\n",
       "\n",
       "    .dataframe tbody tr th {\n",
       "        vertical-align: top;\n",
       "    }\n",
       "\n",
       "    .dataframe thead th {\n",
       "        text-align: right;\n",
       "    }\n",
       "</style>\n",
       "<table border=\"1\" class=\"dataframe\">\n",
       "  <thead>\n",
       "    <tr style=\"text-align: right;\">\n",
       "      <th></th>\n",
       "      <th>Actual</th>\n",
       "      <th>Predicted</th>\n",
       "    </tr>\n",
       "  </thead>\n",
       "  <tbody>\n",
       "    <tr>\n",
       "      <th>0</th>\n",
       "      <td>72.0</td>\n",
       "      <td>70.345501</td>\n",
       "    </tr>\n",
       "    <tr>\n",
       "      <th>1</th>\n",
       "      <td>128.0</td>\n",
       "      <td>72.344615</td>\n",
       "    </tr>\n",
       "    <tr>\n",
       "      <th>2</th>\n",
       "      <td>69.0</td>\n",
       "      <td>70.345501</td>\n",
       "    </tr>\n",
       "    <tr>\n",
       "      <th>3</th>\n",
       "      <td>68.0</td>\n",
       "      <td>70.345501</td>\n",
       "    </tr>\n",
       "    <tr>\n",
       "      <th>4</th>\n",
       "      <td>40.0</td>\n",
       "      <td>70.345501</td>\n",
       "    </tr>\n",
       "    <tr>\n",
       "      <th>5</th>\n",
       "      <td>40.0</td>\n",
       "      <td>70.345501</td>\n",
       "    </tr>\n",
       "    <tr>\n",
       "      <th>6</th>\n",
       "      <td>105.0</td>\n",
       "      <td>70.345501</td>\n",
       "    </tr>\n",
       "    <tr>\n",
       "      <th>7</th>\n",
       "      <td>146.0</td>\n",
       "      <td>70.345501</td>\n",
       "    </tr>\n",
       "    <tr>\n",
       "      <th>8</th>\n",
       "      <td>25.0</td>\n",
       "      <td>70.345501</td>\n",
       "    </tr>\n",
       "    <tr>\n",
       "      <th>9</th>\n",
       "      <td>40.0</td>\n",
       "      <td>70.345501</td>\n",
       "    </tr>\n",
       "    <tr>\n",
       "      <th>10</th>\n",
       "      <td>20.0</td>\n",
       "      <td>71.345058</td>\n",
       "    </tr>\n",
       "    <tr>\n",
       "      <th>11</th>\n",
       "      <td>30.0</td>\n",
       "      <td>71.345058</td>\n",
       "    </tr>\n",
       "    <tr>\n",
       "      <th>12</th>\n",
       "      <td>26.0</td>\n",
       "      <td>70.345501</td>\n",
       "    </tr>\n",
       "    <tr>\n",
       "      <th>13</th>\n",
       "      <td>272.0</td>\n",
       "      <td>92.335752</td>\n",
       "    </tr>\n",
       "    <tr>\n",
       "      <th>14</th>\n",
       "      <td>69.0</td>\n",
       "      <td>72.344615</td>\n",
       "    </tr>\n",
       "    <tr>\n",
       "      <th>15</th>\n",
       "      <td>35.0</td>\n",
       "      <td>70.345501</td>\n",
       "    </tr>\n",
       "    <tr>\n",
       "      <th>16</th>\n",
       "      <td>89.0</td>\n",
       "      <td>70.345501</td>\n",
       "    </tr>\n",
       "    <tr>\n",
       "      <th>17</th>\n",
       "      <td>80.0</td>\n",
       "      <td>70.345501</td>\n",
       "    </tr>\n",
       "    <tr>\n",
       "      <th>18</th>\n",
       "      <td>50.0</td>\n",
       "      <td>70.345501</td>\n",
       "    </tr>\n",
       "    <tr>\n",
       "      <th>19</th>\n",
       "      <td>99.0</td>\n",
       "      <td>70.345501</td>\n",
       "    </tr>\n",
       "    <tr>\n",
       "      <th>20</th>\n",
       "      <td>50.0</td>\n",
       "      <td>70.345501</td>\n",
       "    </tr>\n",
       "    <tr>\n",
       "      <th>21</th>\n",
       "      <td>125.0</td>\n",
       "      <td>70.345501</td>\n",
       "    </tr>\n",
       "    <tr>\n",
       "      <th>22</th>\n",
       "      <td>57.0</td>\n",
       "      <td>70.345501</td>\n",
       "    </tr>\n",
       "    <tr>\n",
       "      <th>23</th>\n",
       "      <td>37.0</td>\n",
       "      <td>70.345501</td>\n",
       "    </tr>\n",
       "    <tr>\n",
       "      <th>24</th>\n",
       "      <td>50.0</td>\n",
       "      <td>71.345058</td>\n",
       "    </tr>\n",
       "    <tr>\n",
       "      <th>25</th>\n",
       "      <td>30.0</td>\n",
       "      <td>70.345501</td>\n",
       "    </tr>\n",
       "    <tr>\n",
       "      <th>26</th>\n",
       "      <td>41.0</td>\n",
       "      <td>70.345501</td>\n",
       "    </tr>\n",
       "    <tr>\n",
       "      <th>27</th>\n",
       "      <td>20.0</td>\n",
       "      <td>70.345501</td>\n",
       "    </tr>\n",
       "    <tr>\n",
       "      <th>28</th>\n",
       "      <td>29.0</td>\n",
       "      <td>70.345501</td>\n",
       "    </tr>\n",
       "    <tr>\n",
       "      <th>29</th>\n",
       "      <td>35.0</td>\n",
       "      <td>70.345501</td>\n",
       "    </tr>\n",
       "  </tbody>\n",
       "</table>\n",
       "</div>"
      ],
      "text/plain": [
       "    Actual  Predicted\n",
       "0     72.0  70.345501\n",
       "1    128.0  72.344615\n",
       "2     69.0  70.345501\n",
       "3     68.0  70.345501\n",
       "4     40.0  70.345501\n",
       "5     40.0  70.345501\n",
       "6    105.0  70.345501\n",
       "7    146.0  70.345501\n",
       "8     25.0  70.345501\n",
       "9     40.0  70.345501\n",
       "10    20.0  71.345058\n",
       "11    30.0  71.345058\n",
       "12    26.0  70.345501\n",
       "13   272.0  92.335752\n",
       "14    69.0  72.344615\n",
       "15    35.0  70.345501\n",
       "16    89.0  70.345501\n",
       "17    80.0  70.345501\n",
       "18    50.0  70.345501\n",
       "19    99.0  70.345501\n",
       "20    50.0  70.345501\n",
       "21   125.0  70.345501\n",
       "22    57.0  70.345501\n",
       "23    37.0  70.345501\n",
       "24    50.0  71.345058\n",
       "25    30.0  70.345501\n",
       "26    41.0  70.345501\n",
       "27    20.0  70.345501\n",
       "28    29.0  70.345501\n",
       "29    35.0  70.345501"
      ]
     },
     "execution_count": 41,
     "metadata": {},
     "output_type": "execute_result"
    }
   ],
   "source": [
    "# Create a dataframe to compare the actual and predicted values of y\n",
    "\n",
    "data = pd.DataFrame({'Actual': y_test.flatten(), 'Predicted': y_predicted.flatten()})\n",
    "data.head(30)"
   ]
  },
  {
   "cell_type": "markdown",
   "id": "b569a757",
   "metadata": {},
   "source": [
    "This confirms that the model doesn't do great at predicting y. "
   ]
  },
  {
   "cell_type": "code",
   "execution_count": 42,
   "id": "6b68c1c2",
   "metadata": {},
   "outputs": [],
   "source": [
    "# Compare how regression fits training set. How well does model predict y in the training set?\n",
    "y_predicted_train = regression.predict(X_train)"
   ]
  },
  {
   "cell_type": "code",
   "execution_count": 43,
   "id": "01307a00",
   "metadata": {},
   "outputs": [],
   "source": [
    "rmse = mean_squared_error(y_train, y_predicted_train)\n",
    "r2 = r2_score(y_train, y_predicted_train)"
   ]
  },
  {
   "cell_type": "code",
   "execution_count": 44,
   "id": "0361e22d",
   "metadata": {},
   "outputs": [
    {
     "name": "stdout",
     "output_type": "stream",
     "text": [
      "Slope: [[0.99955684]]\n",
      "Mean squared error:  9224.509306115107\n",
      "R2 score:  0.0066854505484884585\n"
     ]
    }
   ],
   "source": [
    "print('Slope:' ,regression.coef_)\n",
    "print('Mean squared error: ', rmse)\n",
    "print('R2 score: ', r2)"
   ]
  },
  {
   "cell_type": "markdown",
   "id": "1d5c0bab",
   "metadata": {},
   "source": [
    "When we apply the model back to the training set the results aren't so good, either. \n",
    "\n",
    "MSE remains large while R2 score is very low. "
   ]
  },
  {
   "cell_type": "code",
   "execution_count": 45,
   "id": "11bab2d2",
   "metadata": {},
   "outputs": [
    {
     "data": {
      "image/png": "[encoded data removed]",
      "text/plain": [
       "<Figure size 432x288 with 1 Axes>"
      ]
     },
     "metadata": {
      "needs_background": "light"
     },
     "output_type": "display_data"
    }
   ],
   "source": [
    "# Visualize it\n",
    "\n",
    "plot_test = plt\n",
    "plot_test.scatter(X_train, y_train, color='green', s = 15)\n",
    "plot_test.plot(X_train, y_predicted_train, color='red', linewidth =3)\n",
    "plot_test.title('Count of host listings vs price (Test set)')\n",
    "plot_test.xlabel('Count of host listings')\n",
    "plot_test.ylabel('Price')\n",
    "plot_test.show()"
   ]
  },
  {
   "cell_type": "code",
   "execution_count": null,
   "id": "3a03a25e",
   "metadata": {},
   "outputs": [],
   "source": []
  }
 ],
 "metadata": {
  "kernelspec": {
   "display_name": "Python 3",
   "language": "python",
   "name": "python3"
  },
  "language_info": {
   "codemirror_mode": {
    "name": "ipython",
    "version": 3
   },
   "file_extension": ".py",
   "mimetype": "text/x-python",
   "name": "python",
   "nbconvert_exporter": "python",
   "pygments_lexer": "ipython3",
   "version": "3.8.8"
  },
  "varInspector": {
   "cols": {
    "lenName": 16,
    "lenType": 16,
    "lenVar": 40
   },
   "kernels_config": {
    "python": {
     "delete_cmd_postfix": "",
     "delete_cmd_prefix": "del ",
     "library": "var_list.py",
     "varRefreshCmd": "print(var_dic_list())"
    },
    "r": {
     "delete_cmd_postfix": ") ",
     "delete_cmd_prefix": "rm(",
     "library": "var_list.r",
     "varRefreshCmd": "cat(var_dic_list()) "
    }
   },
   "types_to_exclude": [
    "module",
    "function",
    "builtin_function_or_method",
    "instance",
    "_Feature"
   ],
   "window_display": false
  }
 },
 "nbformat": 4,
 "nbformat_minor": 5
}
