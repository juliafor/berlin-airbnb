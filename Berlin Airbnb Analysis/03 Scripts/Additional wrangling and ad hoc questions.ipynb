{
 "cells": [
  {
   "cell_type": "markdown",
   "id": "6d1f3858",
   "metadata": {},
   "source": [
    "# Additional wrangling + finding ad-hoc answers"
   ]
  },
  {
   "cell_type": "code",
   "execution_count": 2,
   "id": "159d3214",
   "metadata": {},
   "outputs": [],
   "source": [
    "# Import libraries\n",
    "import pandas as pd\n",
    "import numpy as np\n",
    "import os"
   ]
  },
  {
   "cell_type": "code",
   "execution_count": 3,
   "id": "cf724520",
   "metadata": {},
   "outputs": [],
   "source": [
    "# Import data set\n",
    "df = pd.read_csv(r'/Users/OldBobJulia/Desktop/CF/Course/6. Advanced Analytics and Dashboard Design/Berlin Airbnb Analysis/02 Data/Prepared data/listing_derivedcolumns.csv')"
   ]
  },
  {
   "cell_type": "code",
   "execution_count": 4,
   "id": "80f9079a",
   "metadata": {},
   "outputs": [
    {
     "data": {
      "text/html": [
       "<div>\n",
       "<style scoped>\n",
       "    .dataframe tbody tr th:only-of-type {\n",
       "        vertical-align: middle;\n",
       "    }\n",
       "\n",
       "    .dataframe tbody tr th {\n",
       "        vertical-align: top;\n",
       "    }\n",
       "\n",
       "    .dataframe thead th {\n",
       "        text-align: right;\n",
       "    }\n",
       "</style>\n",
       "<table border=\"1\" class=\"dataframe\">\n",
       "  <thead>\n",
       "    <tr style=\"text-align: right;\">\n",
       "      <th></th>\n",
       "      <th>Unnamed: 0</th>\n",
       "      <th>neighbourhood_group</th>\n",
       "      <th>latitude</th>\n",
       "      <th>longitude</th>\n",
       "      <th>room_type</th>\n",
       "      <th>price</th>\n",
       "      <th>minimum_nights</th>\n",
       "      <th>number_of_reviews</th>\n",
       "      <th>reviews_per_month</th>\n",
       "      <th>calculated_host_listings_count</th>\n",
       "      <th>availability_365</th>\n",
       "      <th>Price category</th>\n",
       "      <th>Rental availability</th>\n",
       "      <th>Host type</th>\n",
       "    </tr>\n",
       "  </thead>\n",
       "  <tbody>\n",
       "    <tr>\n",
       "      <th>0</th>\n",
       "      <td>0</td>\n",
       "      <td>Mitte</td>\n",
       "      <td>52.54433</td>\n",
       "      <td>13.39761</td>\n",
       "      <td>Private room</td>\n",
       "      <td>28.0</td>\n",
       "      <td>60</td>\n",
       "      <td>18</td>\n",
       "      <td>0.21</td>\n",
       "      <td>3</td>\n",
       "      <td>101</td>\n",
       "      <td>Low price</td>\n",
       "      <td>Middle term</td>\n",
       "      <td>Commercial host</td>\n",
       "    </tr>\n",
       "    <tr>\n",
       "      <th>1</th>\n",
       "      <td>1</td>\n",
       "      <td>Mitte</td>\n",
       "      <td>52.53305</td>\n",
       "      <td>13.40394</td>\n",
       "      <td>Entire home/apt</td>\n",
       "      <td>74.0</td>\n",
       "      <td>90</td>\n",
       "      <td>141</td>\n",
       "      <td>2.20</td>\n",
       "      <td>6</td>\n",
       "      <td>357</td>\n",
       "      <td>Low price</td>\n",
       "      <td>Long term</td>\n",
       "      <td>Commercial host</td>\n",
       "    </tr>\n",
       "    <tr>\n",
       "      <th>2</th>\n",
       "      <td>2</td>\n",
       "      <td>Pankow</td>\n",
       "      <td>52.53471</td>\n",
       "      <td>13.41810</td>\n",
       "      <td>Entire home/apt</td>\n",
       "      <td>90.0</td>\n",
       "      <td>62</td>\n",
       "      <td>147</td>\n",
       "      <td>1.14</td>\n",
       "      <td>1</td>\n",
       "      <td>254</td>\n",
       "      <td>Middle price</td>\n",
       "      <td>Long term</td>\n",
       "      <td>Private host</td>\n",
       "    </tr>\n",
       "    <tr>\n",
       "      <th>3</th>\n",
       "      <td>3</td>\n",
       "      <td>Tempelhof - Schöneberg</td>\n",
       "      <td>52.49884</td>\n",
       "      <td>13.34940</td>\n",
       "      <td>Private room</td>\n",
       "      <td>29.0</td>\n",
       "      <td>7</td>\n",
       "      <td>27</td>\n",
       "      <td>0.28</td>\n",
       "      <td>1</td>\n",
       "      <td>285</td>\n",
       "      <td>Low price</td>\n",
       "      <td>Long term</td>\n",
       "      <td>Private host</td>\n",
       "    </tr>\n",
       "    <tr>\n",
       "      <th>4</th>\n",
       "      <td>4</td>\n",
       "      <td>Friedrichshain-Kreuzberg</td>\n",
       "      <td>52.51163</td>\n",
       "      <td>13.45289</td>\n",
       "      <td>Entire home/apt</td>\n",
       "      <td>79.0</td>\n",
       "      <td>7</td>\n",
       "      <td>135</td>\n",
       "      <td>1.02</td>\n",
       "      <td>1</td>\n",
       "      <td>0</td>\n",
       "      <td>Low price</td>\n",
       "      <td>Short term</td>\n",
       "      <td>Private host</td>\n",
       "    </tr>\n",
       "  </tbody>\n",
       "</table>\n",
       "</div>"
      ],
      "text/plain": [
       "   Unnamed: 0       neighbourhood_group  latitude  longitude        room_type  \\\n",
       "0           0                     Mitte  52.54433   13.39761     Private room   \n",
       "1           1                     Mitte  52.53305   13.40394  Entire home/apt   \n",
       "2           2                    Pankow  52.53471   13.41810  Entire home/apt   \n",
       "3           3    Tempelhof - Schöneberg  52.49884   13.34940     Private room   \n",
       "4           4  Friedrichshain-Kreuzberg  52.51163   13.45289  Entire home/apt   \n",
       "\n",
       "   price  minimum_nights  number_of_reviews  reviews_per_month  \\\n",
       "0   28.0              60                 18               0.21   \n",
       "1   74.0              90                141               2.20   \n",
       "2   90.0              62                147               1.14   \n",
       "3   29.0               7                 27               0.28   \n",
       "4   79.0               7                135               1.02   \n",
       "\n",
       "   calculated_host_listings_count  availability_365 Price category  \\\n",
       "0                               3               101      Low price   \n",
       "1                               6               357      Low price   \n",
       "2                               1               254   Middle price   \n",
       "3                               1               285      Low price   \n",
       "4                               1                 0      Low price   \n",
       "\n",
       "  Rental availability        Host type  \n",
       "0         Middle term  Commercial host  \n",
       "1           Long term  Commercial host  \n",
       "2           Long term     Private host  \n",
       "3           Long term     Private host  \n",
       "4          Short term     Private host  "
      ]
     },
     "execution_count": 4,
     "metadata": {},
     "output_type": "execute_result"
    }
   ],
   "source": [
    "df.head()"
   ]
  },
  {
   "cell_type": "code",
   "execution_count": 5,
   "id": "001dd4fa",
   "metadata": {},
   "outputs": [],
   "source": [
    "# Drop Unnamed: 0 \n",
    "df = df.drop(columns = ['Unnamed: 0'])"
   ]
  },
  {
   "cell_type": "code",
   "execution_count": 6,
   "id": "e7d01bf2",
   "metadata": {},
   "outputs": [
    {
     "data": {
      "text/plain": [
       "(19095, 13)"
      ]
     },
     "execution_count": 6,
     "metadata": {},
     "output_type": "execute_result"
    }
   ],
   "source": [
    "df.shape"
   ]
  },
  {
   "cell_type": "code",
   "execution_count": 7,
   "id": "62dcddbb",
   "metadata": {},
   "outputs": [],
   "source": [
    "# Adjust neighbourhood names\n",
    "df['neighbourhood_group'] = df['neighbourhood_group'].replace({'Charlottenburg-Wilm.': 'Charlottenburg-Wilmersdorf', 'Tempelhof - Schöneberg': 'Tempelhof-Schöneberg', 'Treptow - Köpenick': 'Treptow-Köpenick', 'Steglitz - Zehlendorf': 'Steglitz-Zehlendorf', 'Marzahn - Hellersdorf': 'Marzahn-Hellersdorf'})"
   ]
  },
  {
   "cell_type": "code",
   "execution_count": 8,
   "id": "7d1b6409",
   "metadata": {},
   "outputs": [
    {
     "data": {
      "text/html": [
       "<div>\n",
       "<style scoped>\n",
       "    .dataframe tbody tr th:only-of-type {\n",
       "        vertical-align: middle;\n",
       "    }\n",
       "\n",
       "    .dataframe tbody tr th {\n",
       "        vertical-align: top;\n",
       "    }\n",
       "\n",
       "    .dataframe thead th {\n",
       "        text-align: right;\n",
       "    }\n",
       "</style>\n",
       "<table border=\"1\" class=\"dataframe\">\n",
       "  <thead>\n",
       "    <tr style=\"text-align: right;\">\n",
       "      <th></th>\n",
       "      <th>neighbourhood_group</th>\n",
       "      <th>latitude</th>\n",
       "      <th>longitude</th>\n",
       "      <th>room_type</th>\n",
       "      <th>price</th>\n",
       "      <th>minimum_nights</th>\n",
       "      <th>number_of_reviews</th>\n",
       "      <th>reviews_per_month</th>\n",
       "      <th>calculated_host_listings_count</th>\n",
       "      <th>availability_365</th>\n",
       "      <th>Price category</th>\n",
       "      <th>Rental availability</th>\n",
       "      <th>Host type</th>\n",
       "    </tr>\n",
       "  </thead>\n",
       "  <tbody>\n",
       "    <tr>\n",
       "      <th>0</th>\n",
       "      <td>Mitte</td>\n",
       "      <td>52.54433</td>\n",
       "      <td>13.39761</td>\n",
       "      <td>Private room</td>\n",
       "      <td>28.0</td>\n",
       "      <td>60</td>\n",
       "      <td>18</td>\n",
       "      <td>0.21</td>\n",
       "      <td>3</td>\n",
       "      <td>101</td>\n",
       "      <td>Low price</td>\n",
       "      <td>Middle term</td>\n",
       "      <td>Commercial host</td>\n",
       "    </tr>\n",
       "    <tr>\n",
       "      <th>1</th>\n",
       "      <td>Mitte</td>\n",
       "      <td>52.53305</td>\n",
       "      <td>13.40394</td>\n",
       "      <td>Entire home/apt</td>\n",
       "      <td>74.0</td>\n",
       "      <td>90</td>\n",
       "      <td>141</td>\n",
       "      <td>2.20</td>\n",
       "      <td>6</td>\n",
       "      <td>357</td>\n",
       "      <td>Low price</td>\n",
       "      <td>Long term</td>\n",
       "      <td>Commercial host</td>\n",
       "    </tr>\n",
       "    <tr>\n",
       "      <th>2</th>\n",
       "      <td>Pankow</td>\n",
       "      <td>52.53471</td>\n",
       "      <td>13.41810</td>\n",
       "      <td>Entire home/apt</td>\n",
       "      <td>90.0</td>\n",
       "      <td>62</td>\n",
       "      <td>147</td>\n",
       "      <td>1.14</td>\n",
       "      <td>1</td>\n",
       "      <td>254</td>\n",
       "      <td>Middle price</td>\n",
       "      <td>Long term</td>\n",
       "      <td>Private host</td>\n",
       "    </tr>\n",
       "    <tr>\n",
       "      <th>3</th>\n",
       "      <td>Tempelhof-Schöneberg</td>\n",
       "      <td>52.49884</td>\n",
       "      <td>13.34940</td>\n",
       "      <td>Private room</td>\n",
       "      <td>29.0</td>\n",
       "      <td>7</td>\n",
       "      <td>27</td>\n",
       "      <td>0.28</td>\n",
       "      <td>1</td>\n",
       "      <td>285</td>\n",
       "      <td>Low price</td>\n",
       "      <td>Long term</td>\n",
       "      <td>Private host</td>\n",
       "    </tr>\n",
       "    <tr>\n",
       "      <th>4</th>\n",
       "      <td>Friedrichshain-Kreuzberg</td>\n",
       "      <td>52.51163</td>\n",
       "      <td>13.45289</td>\n",
       "      <td>Entire home/apt</td>\n",
       "      <td>79.0</td>\n",
       "      <td>7</td>\n",
       "      <td>135</td>\n",
       "      <td>1.02</td>\n",
       "      <td>1</td>\n",
       "      <td>0</td>\n",
       "      <td>Low price</td>\n",
       "      <td>Short term</td>\n",
       "      <td>Private host</td>\n",
       "    </tr>\n",
       "  </tbody>\n",
       "</table>\n",
       "</div>"
      ],
      "text/plain": [
       "        neighbourhood_group  latitude  longitude        room_type  price  \\\n",
       "0                     Mitte  52.54433   13.39761     Private room   28.0   \n",
       "1                     Mitte  52.53305   13.40394  Entire home/apt   74.0   \n",
       "2                    Pankow  52.53471   13.41810  Entire home/apt   90.0   \n",
       "3      Tempelhof-Schöneberg  52.49884   13.34940     Private room   29.0   \n",
       "4  Friedrichshain-Kreuzberg  52.51163   13.45289  Entire home/apt   79.0   \n",
       "\n",
       "   minimum_nights  number_of_reviews  reviews_per_month  \\\n",
       "0              60                 18               0.21   \n",
       "1              90                141               2.20   \n",
       "2              62                147               1.14   \n",
       "3               7                 27               0.28   \n",
       "4               7                135               1.02   \n",
       "\n",
       "   calculated_host_listings_count  availability_365 Price category  \\\n",
       "0                               3               101      Low price   \n",
       "1                               6               357      Low price   \n",
       "2                               1               254   Middle price   \n",
       "3                               1               285      Low price   \n",
       "4                               1                 0      Low price   \n",
       "\n",
       "  Rental availability        Host type  \n",
       "0         Middle term  Commercial host  \n",
       "1           Long term  Commercial host  \n",
       "2           Long term     Private host  \n",
       "3           Long term     Private host  \n",
       "4          Short term     Private host  "
      ]
     },
     "execution_count": 8,
     "metadata": {},
     "output_type": "execute_result"
    }
   ],
   "source": [
    "df.head()"
   ]
  },
  {
   "cell_type": "code",
   "execution_count": 8,
   "id": "8827bad2",
   "metadata": {},
   "outputs": [],
   "source": [
    "# Create path\n",
    "path = r'/Users/OldBobJulia/Desktop/CF/Course/6. Advanced Analytics and Dashboard Design/Berlin Airbnb Analysis'"
   ]
  },
  {
   "cell_type": "code",
   "execution_count": 9,
   "id": "34faf9d2",
   "metadata": {},
   "outputs": [],
   "source": [
    "# Export\n",
    "df.to_csv(os.path.join(path, '02 Data','Prepared Data', 'listing_derived_wrangled.csv'))"
   ]
  },
  {
   "cell_type": "code",
   "execution_count": 9,
   "id": "2789047d",
   "metadata": {},
   "outputs": [
    {
     "data": {
      "text/plain": [
       "Friedrichshain-Kreuzberg      4197\n",
       "Mitte                         4173\n",
       "Pankow                        2981\n",
       "Neukölln                      2608\n",
       "Charlottenburg-Wilmersdorf    1567\n",
       "Tempelhof-Schöneberg          1371\n",
       "Treptow-Köpenick               620\n",
       "Lichtenberg                    612\n",
       "Steglitz-Zehlendorf            415\n",
       "Reinickendorf                  271\n",
       "Marzahn-Hellersdorf            142\n",
       "Spandau                        138\n",
       "Name: neighbourhood_group, dtype: int64"
      ]
     },
     "execution_count": 9,
     "metadata": {},
     "output_type": "execute_result"
    }
   ],
   "source": [
    "df['neighbourhood_group'].value_counts(dropna=False)"
   ]
  },
  {
   "cell_type": "code",
   "execution_count": 11,
   "id": "e6d36dc1",
   "metadata": {},
   "outputs": [
    {
     "data": {
      "text/plain": [
       "Private host       15893\n",
       "Commercial host     3202\n",
       "Name: Host type, dtype: int64"
      ]
     },
     "execution_count": 11,
     "metadata": {},
     "output_type": "execute_result"
    }
   ],
   "source": [
    "# Compare private vs commercial hosts \n",
    "df['Host type'].value_counts(dropna=False)"
   ]
  },
  {
   "cell_type": "code",
   "execution_count": 15,
   "id": "5534beb3",
   "metadata": {
    "scrolled": true
   },
   "outputs": [
    {
     "data": {
      "text/html": [
       "<div>\n",
       "<style scoped>\n",
       "    .dataframe tbody tr th:only-of-type {\n",
       "        vertical-align: middle;\n",
       "    }\n",
       "\n",
       "    .dataframe tbody tr th {\n",
       "        vertical-align: top;\n",
       "    }\n",
       "\n",
       "    .dataframe thead tr th {\n",
       "        text-align: left;\n",
       "    }\n",
       "\n",
       "    .dataframe thead tr:last-of-type th {\n",
       "        text-align: right;\n",
       "    }\n",
       "</style>\n",
       "<table border=\"1\" class=\"dataframe\">\n",
       "  <thead>\n",
       "    <tr>\n",
       "      <th></th>\n",
       "      <th colspan=\"4\" halign=\"left\">price</th>\n",
       "    </tr>\n",
       "    <tr>\n",
       "      <th></th>\n",
       "      <th>mean</th>\n",
       "      <th>min</th>\n",
       "      <th>max</th>\n",
       "      <th>sum</th>\n",
       "    </tr>\n",
       "    <tr>\n",
       "      <th>Host type</th>\n",
       "      <th></th>\n",
       "      <th></th>\n",
       "      <th></th>\n",
       "      <th></th>\n",
       "    </tr>\n",
       "  </thead>\n",
       "  <tbody>\n",
       "    <tr>\n",
       "      <th>Commercial host</th>\n",
       "      <td>102.075578</td>\n",
       "      <td>9.0</td>\n",
       "      <td>2575.0</td>\n",
       "      <td>3.268460e+05</td>\n",
       "    </tr>\n",
       "    <tr>\n",
       "      <th>Private host</th>\n",
       "      <td>66.042416</td>\n",
       "      <td>8.0</td>\n",
       "      <td>4000.0</td>\n",
       "      <td>1.049612e+06</td>\n",
       "    </tr>\n",
       "  </tbody>\n",
       "</table>\n",
       "</div>"
      ],
      "text/plain": [
       "                      price                           \n",
       "                       mean  min     max           sum\n",
       "Host type                                             \n",
       "Commercial host  102.075578  9.0  2575.0  3.268460e+05\n",
       "Private host      66.042416  8.0  4000.0  1.049612e+06"
      ]
     },
     "execution_count": 15,
     "metadata": {},
     "output_type": "execute_result"
    }
   ],
   "source": [
    "# Check income mean\n",
    "df.groupby('Host type').agg({'price': ['mean', 'min', 'max', 'sum']})"
   ]
  },
  {
   "cell_type": "code",
   "execution_count": 14,
   "id": "749e0a6e",
   "metadata": {},
   "outputs": [
    {
     "data": {
      "text/html": [
       "<div>\n",
       "<style scoped>\n",
       "    .dataframe tbody tr th:only-of-type {\n",
       "        vertical-align: middle;\n",
       "    }\n",
       "\n",
       "    .dataframe tbody tr th {\n",
       "        vertical-align: top;\n",
       "    }\n",
       "\n",
       "    .dataframe thead tr th {\n",
       "        text-align: left;\n",
       "    }\n",
       "\n",
       "    .dataframe thead tr:last-of-type th {\n",
       "        text-align: right;\n",
       "    }\n",
       "</style>\n",
       "<table border=\"1\" class=\"dataframe\">\n",
       "  <thead>\n",
       "    <tr>\n",
       "      <th></th>\n",
       "      <th colspan=\"3\" halign=\"left\">availability_365</th>\n",
       "    </tr>\n",
       "    <tr>\n",
       "      <th></th>\n",
       "      <th>mean</th>\n",
       "      <th>min</th>\n",
       "      <th>max</th>\n",
       "    </tr>\n",
       "    <tr>\n",
       "      <th>Host type</th>\n",
       "      <th></th>\n",
       "      <th></th>\n",
       "      <th></th>\n",
       "    </tr>\n",
       "  </thead>\n",
       "  <tbody>\n",
       "    <tr>\n",
       "      <th>Commercial host</th>\n",
       "      <td>215.420050</td>\n",
       "      <td>0</td>\n",
       "      <td>365</td>\n",
       "    </tr>\n",
       "    <tr>\n",
       "      <th>Private host</th>\n",
       "      <td>66.259234</td>\n",
       "      <td>0</td>\n",
       "      <td>365</td>\n",
       "    </tr>\n",
       "  </tbody>\n",
       "</table>\n",
       "</div>"
      ],
      "text/plain": [
       "                availability_365         \n",
       "                            mean min  max\n",
       "Host type                                \n",
       "Commercial host       215.420050   0  365\n",
       "Private host           66.259234   0  365"
      ]
     },
     "execution_count": 14,
     "metadata": {},
     "output_type": "execute_result"
    }
   ],
   "source": [
    "# See availability grouped by host type\n",
    "df.groupby('Host type').agg({'availability_365': ['mean', 'min', 'max']})"
   ]
  },
  {
   "cell_type": "code",
   "execution_count": 19,
   "id": "6a3df41a",
   "metadata": {},
   "outputs": [
    {
     "data": {
      "text/plain": [
       "Entire home/apt    10636\n",
       "Private room        8042\n",
       "Shared room          249\n",
       "Hotel room           168\n",
       "Name: room_type, dtype: int64"
      ]
     },
     "execution_count": 19,
     "metadata": {},
     "output_type": "execute_result"
    }
   ],
   "source": [
    "# Compare room types \n",
    "df['room_type'].value_counts(dropna=False)"
   ]
  },
  {
   "cell_type": "code",
   "execution_count": 20,
   "id": "054cb03d",
   "metadata": {},
   "outputs": [
    {
     "data": {
      "text/html": [
       "<div>\n",
       "<style scoped>\n",
       "    .dataframe tbody tr th:only-of-type {\n",
       "        vertical-align: middle;\n",
       "    }\n",
       "\n",
       "    .dataframe tbody tr th {\n",
       "        vertical-align: top;\n",
       "    }\n",
       "\n",
       "    .dataframe thead tr th {\n",
       "        text-align: left;\n",
       "    }\n",
       "\n",
       "    .dataframe thead tr:last-of-type th {\n",
       "        text-align: right;\n",
       "    }\n",
       "</style>\n",
       "<table border=\"1\" class=\"dataframe\">\n",
       "  <thead>\n",
       "    <tr>\n",
       "      <th></th>\n",
       "      <th colspan=\"4\" halign=\"left\">availability_365</th>\n",
       "    </tr>\n",
       "    <tr>\n",
       "      <th></th>\n",
       "      <th>mean</th>\n",
       "      <th>min</th>\n",
       "      <th>max</th>\n",
       "      <th>sum</th>\n",
       "    </tr>\n",
       "    <tr>\n",
       "      <th>room_type</th>\n",
       "      <th></th>\n",
       "      <th></th>\n",
       "      <th></th>\n",
       "      <th></th>\n",
       "    </tr>\n",
       "  </thead>\n",
       "  <tbody>\n",
       "    <tr>\n",
       "      <th>Entire home/apt</th>\n",
       "      <td>102.090071</td>\n",
       "      <td>0</td>\n",
       "      <td>365</td>\n",
       "      <td>1085830</td>\n",
       "    </tr>\n",
       "    <tr>\n",
       "      <th>Hotel room</th>\n",
       "      <td>260.303571</td>\n",
       "      <td>0</td>\n",
       "      <td>365</td>\n",
       "      <td>43731</td>\n",
       "    </tr>\n",
       "    <tr>\n",
       "      <th>Private room</th>\n",
       "      <td>71.667496</td>\n",
       "      <td>0</td>\n",
       "      <td>365</td>\n",
       "      <td>576350</td>\n",
       "    </tr>\n",
       "    <tr>\n",
       "      <th>Shared room</th>\n",
       "      <td>148.281124</td>\n",
       "      <td>0</td>\n",
       "      <td>365</td>\n",
       "      <td>36922</td>\n",
       "    </tr>\n",
       "  </tbody>\n",
       "</table>\n",
       "</div>"
      ],
      "text/plain": [
       "                availability_365                  \n",
       "                            mean min  max      sum\n",
       "room_type                                         \n",
       "Entire home/apt       102.090071   0  365  1085830\n",
       "Hotel room            260.303571   0  365    43731\n",
       "Private room           71.667496   0  365   576350\n",
       "Shared room           148.281124   0  365    36922"
      ]
     },
     "execution_count": 20,
     "metadata": {},
     "output_type": "execute_result"
    }
   ],
   "source": [
    "df.groupby('room_type').agg({'availability_365': ['mean', 'min', 'max', 'sum']})"
   ]
  },
  {
   "cell_type": "code",
   "execution_count": 23,
   "id": "6b5f3fae",
   "metadata": {},
   "outputs": [],
   "source": [
    "# Import additional libraries\n",
    "import seaborn as sns\n",
    "import matplotlib"
   ]
  },
  {
   "cell_type": "code",
   "execution_count": 28,
   "id": "bb2d7cf5",
   "metadata": {},
   "outputs": [],
   "source": [
    "# How many entire apartments are available more than 90 days? Create subset. \n",
    "long_term = df[df['availability_365']>=90]"
   ]
  },
  {
   "cell_type": "code",
   "execution_count": 29,
   "id": "50d0e866",
   "metadata": {},
   "outputs": [
    {
     "data": {
      "text/html": [
       "<div>\n",
       "<style scoped>\n",
       "    .dataframe tbody tr th:only-of-type {\n",
       "        vertical-align: middle;\n",
       "    }\n",
       "\n",
       "    .dataframe tbody tr th {\n",
       "        vertical-align: top;\n",
       "    }\n",
       "\n",
       "    .dataframe thead th {\n",
       "        text-align: right;\n",
       "    }\n",
       "</style>\n",
       "<table border=\"1\" class=\"dataframe\">\n",
       "  <thead>\n",
       "    <tr style=\"text-align: right;\">\n",
       "      <th></th>\n",
       "      <th>neighbourhood_group</th>\n",
       "      <th>latitude</th>\n",
       "      <th>longitude</th>\n",
       "      <th>room_type</th>\n",
       "      <th>price</th>\n",
       "      <th>minimum_nights</th>\n",
       "      <th>number_of_reviews</th>\n",
       "      <th>reviews_per_month</th>\n",
       "      <th>calculated_host_listings_count</th>\n",
       "      <th>availability_365</th>\n",
       "      <th>Price category</th>\n",
       "      <th>Rental availability</th>\n",
       "      <th>Host type</th>\n",
       "    </tr>\n",
       "  </thead>\n",
       "  <tbody>\n",
       "    <tr>\n",
       "      <th>0</th>\n",
       "      <td>Mitte</td>\n",
       "      <td>52.54433</td>\n",
       "      <td>13.39761</td>\n",
       "      <td>Private room</td>\n",
       "      <td>28.0</td>\n",
       "      <td>60</td>\n",
       "      <td>18</td>\n",
       "      <td>0.21</td>\n",
       "      <td>3</td>\n",
       "      <td>101</td>\n",
       "      <td>Low price</td>\n",
       "      <td>Middle term</td>\n",
       "      <td>Commercial host</td>\n",
       "    </tr>\n",
       "    <tr>\n",
       "      <th>1</th>\n",
       "      <td>Mitte</td>\n",
       "      <td>52.53305</td>\n",
       "      <td>13.40394</td>\n",
       "      <td>Entire home/apt</td>\n",
       "      <td>74.0</td>\n",
       "      <td>90</td>\n",
       "      <td>141</td>\n",
       "      <td>2.20</td>\n",
       "      <td>6</td>\n",
       "      <td>357</td>\n",
       "      <td>Low price</td>\n",
       "      <td>Long term</td>\n",
       "      <td>Commercial host</td>\n",
       "    </tr>\n",
       "    <tr>\n",
       "      <th>2</th>\n",
       "      <td>Pankow</td>\n",
       "      <td>52.53471</td>\n",
       "      <td>13.41810</td>\n",
       "      <td>Entire home/apt</td>\n",
       "      <td>90.0</td>\n",
       "      <td>62</td>\n",
       "      <td>147</td>\n",
       "      <td>1.14</td>\n",
       "      <td>1</td>\n",
       "      <td>254</td>\n",
       "      <td>Middle price</td>\n",
       "      <td>Long term</td>\n",
       "      <td>Private host</td>\n",
       "    </tr>\n",
       "    <tr>\n",
       "      <th>3</th>\n",
       "      <td>Tempelhof-Schöneberg</td>\n",
       "      <td>52.49884</td>\n",
       "      <td>13.34940</td>\n",
       "      <td>Private room</td>\n",
       "      <td>29.0</td>\n",
       "      <td>7</td>\n",
       "      <td>27</td>\n",
       "      <td>0.28</td>\n",
       "      <td>1</td>\n",
       "      <td>285</td>\n",
       "      <td>Low price</td>\n",
       "      <td>Long term</td>\n",
       "      <td>Private host</td>\n",
       "    </tr>\n",
       "    <tr>\n",
       "      <th>7</th>\n",
       "      <td>Pankow</td>\n",
       "      <td>52.54813</td>\n",
       "      <td>13.40366</td>\n",
       "      <td>Entire home/apt</td>\n",
       "      <td>70.0</td>\n",
       "      <td>90</td>\n",
       "      <td>26</td>\n",
       "      <td>0.26</td>\n",
       "      <td>3</td>\n",
       "      <td>238</td>\n",
       "      <td>Low price</td>\n",
       "      <td>Long term</td>\n",
       "      <td>Commercial host</td>\n",
       "    </tr>\n",
       "  </tbody>\n",
       "</table>\n",
       "</div>"
      ],
      "text/plain": [
       "    neighbourhood_group  latitude  longitude        room_type  price  \\\n",
       "0                 Mitte  52.54433   13.39761     Private room   28.0   \n",
       "1                 Mitte  52.53305   13.40394  Entire home/apt   74.0   \n",
       "2                Pankow  52.53471   13.41810  Entire home/apt   90.0   \n",
       "3  Tempelhof-Schöneberg  52.49884   13.34940     Private room   29.0   \n",
       "7                Pankow  52.54813   13.40366  Entire home/apt   70.0   \n",
       "\n",
       "   minimum_nights  number_of_reviews  reviews_per_month  \\\n",
       "0              60                 18               0.21   \n",
       "1              90                141               2.20   \n",
       "2              62                147               1.14   \n",
       "3               7                 27               0.28   \n",
       "7              90                 26               0.26   \n",
       "\n",
       "   calculated_host_listings_count  availability_365 Price category  \\\n",
       "0                               3               101      Low price   \n",
       "1                               6               357      Low price   \n",
       "2                               1               254   Middle price   \n",
       "3                               1               285      Low price   \n",
       "7                               3               238      Low price   \n",
       "\n",
       "  Rental availability        Host type  \n",
       "0         Middle term  Commercial host  \n",
       "1           Long term  Commercial host  \n",
       "2           Long term     Private host  \n",
       "3           Long term     Private host  \n",
       "7           Long term  Commercial host  "
      ]
     },
     "execution_count": 29,
     "metadata": {},
     "output_type": "execute_result"
    }
   ],
   "source": [
    "long_term.head()"
   ]
  },
  {
   "cell_type": "code",
   "execution_count": 30,
   "id": "1d596192",
   "metadata": {},
   "outputs": [
    {
     "data": {
      "text/plain": [
       "(6329, 13)"
      ]
     },
     "execution_count": 30,
     "metadata": {},
     "output_type": "execute_result"
    }
   ],
   "source": [
    "long_term.shape"
   ]
  },
  {
   "cell_type": "code",
   "execution_count": 31,
   "id": "a792e522",
   "metadata": {},
   "outputs": [
    {
     "data": {
      "text/plain": [
       "Entire home/apt    4026\n",
       "Private room       2023\n",
       "Hotel room          144\n",
       "Shared room         136\n",
       "Name: room_type, dtype: int64"
      ]
     },
     "execution_count": 31,
     "metadata": {},
     "output_type": "execute_result"
    }
   ],
   "source": [
    "long_term['room_type'].value_counts(dropna=False)"
   ]
  },
  {
   "cell_type": "markdown",
   "id": "50a2ca1d",
   "metadata": {},
   "source": [
    "**- We have 15893 private hosts and 3202 commercial hosts**\n",
    "\n",
    "**- The mean incomes are 66 (private) vs 102 EUR (commercial) per night**\n",
    "\n",
    "**- The mean availability of rooms throughout the year are 66 (private) vs 215 (commercial)**"
   ]
  },
  {
   "cell_type": "code",
   "execution_count": null,
   "id": "4523ccee",
   "metadata": {},
   "outputs": [],
   "source": []
  }
 ],
 "metadata": {
  "kernelspec": {
   "display_name": "Python 3",
   "language": "python",
   "name": "python3"
  },
  "language_info": {
   "codemirror_mode": {
    "name": "ipython",
    "version": 3
   },
   "file_extension": ".py",
   "mimetype": "text/x-python",
   "name": "python",
   "nbconvert_exporter": "python",
   "pygments_lexer": "ipython3",
   "version": "3.8.8"
  },
  "varInspector": {
   "cols": {
    "lenName": 16,
    "lenType": 16,
    "lenVar": 40
   },
   "kernels_config": {
    "python": {
     "delete_cmd_postfix": "",
     "delete_cmd_prefix": "del ",
     "library": "var_list.py",
     "varRefreshCmd": "print(var_dic_list())"
    },
    "r": {
     "delete_cmd_postfix": ") ",
     "delete_cmd_prefix": "rm(",
     "library": "var_list.r",
     "varRefreshCmd": "cat(var_dic_list()) "
    }
   },
   "types_to_exclude": [
    "module",
    "function",
    "builtin_function_or_method",
    "instance",
    "_Feature"
   ],
   "window_display": false
  }
 },
 "nbformat": 4,
 "nbformat_minor": 5
}
